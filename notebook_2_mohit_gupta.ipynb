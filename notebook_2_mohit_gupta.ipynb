{
 "cells": [
  {
   "cell_type": "markdown",
   "id": "803b848d",
   "metadata": {},
   "source": [
    "# Email Functionality\n",
    "This notebook demonstrates how to send an email to a specified recipient using Python."
   ]
  },
  {
   "cell_type": "markdown",
   "id": "cbb119c0",
   "metadata": {},
   "source": [
    "# Steps to Run the Notebook\n",
    "1. Ensure you have Python installed on your system.\n",
    "2. Install libraries as listed in the cell.\n",
    "3. Replace the placeholders in the Mailing details cell with your email credentials and recipient details.\n",
    "4. Run the cells sequentially to send an email."
   ]
  },
  {
   "cell_type": "code",
   "execution_count": null,
   "id": "8686efed",
   "metadata": {},
   "outputs": [],
   "source": [
    "! pip install -q requests matplotlib"
   ]
  },
  {
   "cell_type": "code",
   "execution_count": null,
   "id": "79d436a4",
   "metadata": {},
   "outputs": [],
   "source": [
    "import smtplib\n",
    "from email.mime.text import MIMEText\n",
    "from email.mime.multipart import MIMEMultipart"
   ]
  },
  {
   "cell_type": "markdown",
   "id": "249ef151",
   "metadata": {},
   "source": [
    "## Mailing details"
   ]
  },
  {
   "cell_type": "code",
   "execution_count": null,
   "id": "760b865c",
   "metadata": {},
   "outputs": [],
   "source": [
    "recipient_email = \"mohitkgupta22@gmail.com\"\n",
    "body = \"This is a test email.\""
   ]
  },
  {
   "cell_type": "code",
   "execution_count": null,
   "id": "4818bf59",
   "metadata": {},
   "outputs": [],
   "source": [
    "class EmailSender:\n",
    "    def __init__(self, recipient_email, body):\n",
    "        self.recipient_email = recipient_email\n",
    "        self.subject = \"weather report\"\n",
    "        self.smtp_server_name = 'gmail'\n",
    "        self.login = \"\"\n",
    "        self.password = \"\"\n",
    "        self.sender_email = \"\"\n",
    "        self.body = f\"<html><body>{self.body}</body></html>\"\n",
    "\n",
    "    def __select_smtp(self,smtp_server_name):\n",
    "        if smtp_server_name == 'gmail':\n",
    "            self.smtp_server = 'smtp.gmail.com'\n",
    "            self.smtp_port = 587\n",
    "        elif smtp_server_name == 'yahoo':\n",
    "            self.smtp_server = 'smtp.mail.yahoo.com'\n",
    "            self.smtp_port = 587\n",
    "        elif smtp_server_name == 'outlook':\n",
    "            self.smtp_server = 'smtp-mail.outlook.com'\n",
    "            self.smtp_port = 587     \n",
    "        else:\n",
    "            raise ValueError(\"Unsupported SMTP server. Please use 'gmail', 'yahoo', or 'outlook'.\")\n",
    "        return self.smtp_server, self.smtp_port\n",
    "\n",
    "    def send_email(self):\n",
    "        msg = MIMEMultipart()\n",
    "        msg['From'] = self.sender_email\n",
    "        msg['To'] = self.recipient_email\n",
    "        msg['Subject'] = self.subject\n",
    "        msg.attach(MIMEText(self.body, 'plain'))\n",
    "        smtp_server,smtp_port = self.__select_smtp(self.smtp_server_name)\n",
    "        with smtplib.SMTP(smtp_server,smtp_port) as server:\n",
    "            server.starttls()\n",
    "            server.login(self.login, self.password)\n",
    "            server.sendmail(self.sender_email, self.recipient_email, msg.as_string())\n",
    "            print('Email sent successfully!')"
   ]
  },
  {
   "cell_type": "code",
   "execution_count": null,
   "id": "4b32d7dc",
   "metadata": {},
   "outputs": [],
   "source": [
    "# Create an instance(object) of the EmailSender class\n",
    "email_sender = EmailSender(recipient_email,body)"
   ]
  },
  {
   "cell_type": "code",
   "execution_count": null,
   "id": "c5880f20",
   "metadata": {},
   "outputs": [
    {
     "name": "stdout",
     "output_type": "stream",
     "text": [
      "Email sent successfully!\n"
     ]
    }
   ],
   "source": [
    "# call the send_email method to send the email\n",
    "email_sender.send_email()"
   ]
  }
 ],
 "metadata": {
  "kernelspec": {
   "display_name": "Python 3",
   "language": "python",
   "name": "python3"
  },
  "language_info": {
   "codemirror_mode": {
    "name": "ipython",
    "version": 3
   },
   "file_extension": ".py",
   "mimetype": "text/x-python",
   "name": "python",
   "nbconvert_exporter": "python",
   "pygments_lexer": "ipython3",
   "version": "3.12.5"
  }
 },
 "nbformat": 4,
 "nbformat_minor": 5
}
